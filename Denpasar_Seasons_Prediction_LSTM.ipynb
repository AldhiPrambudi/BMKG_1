{
  "nbformat": 4,
  "nbformat_minor": 0,
  "metadata": {
    "colab": {
      "name": "Rindang MV - Denpasar Seasons Prediction_LSTM.ipynb",
      "provenance": [],
      "mount_file_id": "1cfOuJP-S1ledYFZdJdoSR7U2fxCm6ugx",
      "authorship_tag": "ABX9TyPJia5hh5LE6Hyje32hTxcM",
      "include_colab_link": true
    },
    "kernelspec": {
      "name": "python3",
      "display_name": "Python 3"
    },
    "language_info": {
      "name": "python"
    }
  },
  "cells": [
    {
      "cell_type": "markdown",
      "metadata": {
        "id": "view-in-github",
        "colab_type": "text"
      },
      "source": [
        "<a href=\"https://colab.research.google.com/github/AldhiPrambudi/BMKG_1/blob/RindangMuharzaViawan/Denpasar_Seasons_Prediction_LSTM.ipynb\" target=\"_parent\"><img src=\"https://colab.research.google.com/assets/colab-badge.svg\" alt=\"Open In Colab\"/></a>"
      ]
    },
    {
      "cell_type": "code",
      "execution_count": 1,
      "metadata": {
        "id": "35GCoGrhF0b_"
      },
      "outputs": [],
      "source": [
        "import tensorflow as tf\n",
        "from tensorflow import keras\n",
        "import pandas as pd\n",
        "import numpy as np\n",
        "from matplotlib import pyplot as plt\n",
        "import seaborn as sns\n",
        "from sklearn.preprocessing import MinMaxScaler"
      ]
    },
    {
      "cell_type": "code",
      "source": [
        "df = pd.read_csv('/content/drive/MyDrive/Colab Notebooks/1990-2020_day.txt')\n",
        "df.head()"
      ],
      "metadata": {
        "colab": {
          "base_uri": "https://localhost:8080/",
          "height": 206
        },
        "id": "Hh3YVXsfGDv_",
        "outputId": "71edcb04-9c67-4b9f-a301-96afbd9d2671"
      },
      "execution_count": 2,
      "outputs": [
        {
          "output_type": "execute_result",
          "data": {
            "text/plain": [
              "       dt_iso  temp_mean  temp_min_min  temp_max_max  pressure_mean  \\\n",
              "0  1990-01-01  26.333750         25.03         27.40    1009.333333   \n",
              "1  1990-01-02  25.559583         24.92         26.55    1009.666667   \n",
              "2  1990-01-03  26.956667         26.09         27.52    1008.583333   \n",
              "3  1990-01-04  26.638750         25.91         27.15    1007.958333   \n",
              "4  1990-01-05  27.940417         27.40         28.83    1007.916667   \n",
              "\n",
              "   humidity_mean  wind_speed_mean  wind_deg_mean  clouds_all_mean  rain_1d  \n",
              "0      85.416667         1.477083     194.291667        91.541667     9.40  \n",
              "1      87.541667         2.096667     247.458333        99.958333    36.71  \n",
              "2      82.250000         2.122083     271.125000        96.000000     5.02  \n",
              "3      84.541667         2.652500     202.458333        98.541667    10.54  \n",
              "4      78.708333         2.905000     131.458333        99.708333     0.71  "
            ],
            "text/html": [
              "\n",
              "  <div id=\"df-3886e496-a8f3-4140-ad56-79bf4b777387\">\n",
              "    <div class=\"colab-df-container\">\n",
              "      <div>\n",
              "<style scoped>\n",
              "    .dataframe tbody tr th:only-of-type {\n",
              "        vertical-align: middle;\n",
              "    }\n",
              "\n",
              "    .dataframe tbody tr th {\n",
              "        vertical-align: top;\n",
              "    }\n",
              "\n",
              "    .dataframe thead th {\n",
              "        text-align: right;\n",
              "    }\n",
              "</style>\n",
              "<table border=\"1\" class=\"dataframe\">\n",
              "  <thead>\n",
              "    <tr style=\"text-align: right;\">\n",
              "      <th></th>\n",
              "      <th>dt_iso</th>\n",
              "      <th>temp_mean</th>\n",
              "      <th>temp_min_min</th>\n",
              "      <th>temp_max_max</th>\n",
              "      <th>pressure_mean</th>\n",
              "      <th>humidity_mean</th>\n",
              "      <th>wind_speed_mean</th>\n",
              "      <th>wind_deg_mean</th>\n",
              "      <th>clouds_all_mean</th>\n",
              "      <th>rain_1d</th>\n",
              "    </tr>\n",
              "  </thead>\n",
              "  <tbody>\n",
              "    <tr>\n",
              "      <th>0</th>\n",
              "      <td>1990-01-01</td>\n",
              "      <td>26.333750</td>\n",
              "      <td>25.03</td>\n",
              "      <td>27.40</td>\n",
              "      <td>1009.333333</td>\n",
              "      <td>85.416667</td>\n",
              "      <td>1.477083</td>\n",
              "      <td>194.291667</td>\n",
              "      <td>91.541667</td>\n",
              "      <td>9.40</td>\n",
              "    </tr>\n",
              "    <tr>\n",
              "      <th>1</th>\n",
              "      <td>1990-01-02</td>\n",
              "      <td>25.559583</td>\n",
              "      <td>24.92</td>\n",
              "      <td>26.55</td>\n",
              "      <td>1009.666667</td>\n",
              "      <td>87.541667</td>\n",
              "      <td>2.096667</td>\n",
              "      <td>247.458333</td>\n",
              "      <td>99.958333</td>\n",
              "      <td>36.71</td>\n",
              "    </tr>\n",
              "    <tr>\n",
              "      <th>2</th>\n",
              "      <td>1990-01-03</td>\n",
              "      <td>26.956667</td>\n",
              "      <td>26.09</td>\n",
              "      <td>27.52</td>\n",
              "      <td>1008.583333</td>\n",
              "      <td>82.250000</td>\n",
              "      <td>2.122083</td>\n",
              "      <td>271.125000</td>\n",
              "      <td>96.000000</td>\n",
              "      <td>5.02</td>\n",
              "    </tr>\n",
              "    <tr>\n",
              "      <th>3</th>\n",
              "      <td>1990-01-04</td>\n",
              "      <td>26.638750</td>\n",
              "      <td>25.91</td>\n",
              "      <td>27.15</td>\n",
              "      <td>1007.958333</td>\n",
              "      <td>84.541667</td>\n",
              "      <td>2.652500</td>\n",
              "      <td>202.458333</td>\n",
              "      <td>98.541667</td>\n",
              "      <td>10.54</td>\n",
              "    </tr>\n",
              "    <tr>\n",
              "      <th>4</th>\n",
              "      <td>1990-01-05</td>\n",
              "      <td>27.940417</td>\n",
              "      <td>27.40</td>\n",
              "      <td>28.83</td>\n",
              "      <td>1007.916667</td>\n",
              "      <td>78.708333</td>\n",
              "      <td>2.905000</td>\n",
              "      <td>131.458333</td>\n",
              "      <td>99.708333</td>\n",
              "      <td>0.71</td>\n",
              "    </tr>\n",
              "  </tbody>\n",
              "</table>\n",
              "</div>\n",
              "      <button class=\"colab-df-convert\" onclick=\"convertToInteractive('df-3886e496-a8f3-4140-ad56-79bf4b777387')\"\n",
              "              title=\"Convert this dataframe to an interactive table.\"\n",
              "              style=\"display:none;\">\n",
              "        \n",
              "  <svg xmlns=\"http://www.w3.org/2000/svg\" height=\"24px\"viewBox=\"0 0 24 24\"\n",
              "       width=\"24px\">\n",
              "    <path d=\"M0 0h24v24H0V0z\" fill=\"none\"/>\n",
              "    <path d=\"M18.56 5.44l.94 2.06.94-2.06 2.06-.94-2.06-.94-.94-2.06-.94 2.06-2.06.94zm-11 1L8.5 8.5l.94-2.06 2.06-.94-2.06-.94L8.5 2.5l-.94 2.06-2.06.94zm10 10l.94 2.06.94-2.06 2.06-.94-2.06-.94-.94-2.06-.94 2.06-2.06.94z\"/><path d=\"M17.41 7.96l-1.37-1.37c-.4-.4-.92-.59-1.43-.59-.52 0-1.04.2-1.43.59L10.3 9.45l-7.72 7.72c-.78.78-.78 2.05 0 2.83L4 21.41c.39.39.9.59 1.41.59.51 0 1.02-.2 1.41-.59l7.78-7.78 2.81-2.81c.8-.78.8-2.07 0-2.86zM5.41 20L4 18.59l7.72-7.72 1.47 1.35L5.41 20z\"/>\n",
              "  </svg>\n",
              "      </button>\n",
              "      \n",
              "  <style>\n",
              "    .colab-df-container {\n",
              "      display:flex;\n",
              "      flex-wrap:wrap;\n",
              "      gap: 12px;\n",
              "    }\n",
              "\n",
              "    .colab-df-convert {\n",
              "      background-color: #E8F0FE;\n",
              "      border: none;\n",
              "      border-radius: 50%;\n",
              "      cursor: pointer;\n",
              "      display: none;\n",
              "      fill: #1967D2;\n",
              "      height: 32px;\n",
              "      padding: 0 0 0 0;\n",
              "      width: 32px;\n",
              "    }\n",
              "\n",
              "    .colab-df-convert:hover {\n",
              "      background-color: #E2EBFA;\n",
              "      box-shadow: 0px 1px 2px rgba(60, 64, 67, 0.3), 0px 1px 3px 1px rgba(60, 64, 67, 0.15);\n",
              "      fill: #174EA6;\n",
              "    }\n",
              "\n",
              "    [theme=dark] .colab-df-convert {\n",
              "      background-color: #3B4455;\n",
              "      fill: #D2E3FC;\n",
              "    }\n",
              "\n",
              "    [theme=dark] .colab-df-convert:hover {\n",
              "      background-color: #434B5C;\n",
              "      box-shadow: 0px 1px 3px 1px rgba(0, 0, 0, 0.15);\n",
              "      filter: drop-shadow(0px 1px 2px rgba(0, 0, 0, 0.3));\n",
              "      fill: #FFFFFF;\n",
              "    }\n",
              "  </style>\n",
              "\n",
              "      <script>\n",
              "        const buttonEl =\n",
              "          document.querySelector('#df-3886e496-a8f3-4140-ad56-79bf4b777387 button.colab-df-convert');\n",
              "        buttonEl.style.display =\n",
              "          google.colab.kernel.accessAllowed ? 'block' : 'none';\n",
              "\n",
              "        async function convertToInteractive(key) {\n",
              "          const element = document.querySelector('#df-3886e496-a8f3-4140-ad56-79bf4b777387');\n",
              "          const dataTable =\n",
              "            await google.colab.kernel.invokeFunction('convertToInteractive',\n",
              "                                                     [key], {});\n",
              "          if (!dataTable) return;\n",
              "\n",
              "          const docLinkHtml = 'Like what you see? Visit the ' +\n",
              "            '<a target=\"_blank\" href=https://colab.research.google.com/notebooks/data_table.ipynb>data table notebook</a>'\n",
              "            + ' to learn more about interactive tables.';\n",
              "          element.innerHTML = '';\n",
              "          dataTable['output_type'] = 'display_data';\n",
              "          await google.colab.output.renderOutput(dataTable, element);\n",
              "          const docLink = document.createElement('div');\n",
              "          docLink.innerHTML = docLinkHtml;\n",
              "          element.appendChild(docLink);\n",
              "        }\n",
              "      </script>\n",
              "    </div>\n",
              "  </div>\n",
              "  "
            ]
          },
          "metadata": {},
          "execution_count": 2
        }
      ]
    },
    {
      "cell_type": "code",
      "source": [
        "df.shape"
      ],
      "metadata": {
        "colab": {
          "base_uri": "https://localhost:8080/"
        },
        "id": "pZAWyqpZQzbK",
        "outputId": "1a4969fe-5eb4-4516-e607-1c3c23d8b2df"
      },
      "execution_count": 3,
      "outputs": [
        {
          "output_type": "execute_result",
          "data": {
            "text/plain": [
              "(10964, 10)"
            ]
          },
          "metadata": {},
          "execution_count": 3
        }
      ]
    },
    {
      "cell_type": "code",
      "source": [
        "df.describe()"
      ],
      "metadata": {
        "colab": {
          "base_uri": "https://localhost:8080/",
          "height": 300
        },
        "id": "E_gl1dykXclq",
        "outputId": "b8002761-4080-43ae-a44c-0e93e521a72b"
      },
      "execution_count": 4,
      "outputs": [
        {
          "output_type": "execute_result",
          "data": {
            "text/plain": [
              "          temp_mean  temp_min_min  temp_max_max  pressure_mean  humidity_mean  \\\n",
              "count  10964.000000  10964.000000  10964.000000   10964.000000   10964.000000   \n",
              "mean      27.273347     24.848543     30.145240    1010.043557      80.814358   \n",
              "std        1.069445      1.391260      1.551929       1.995368       4.300660   \n",
              "min       22.401250      2.000000     23.200000    1001.129167      61.958333   \n",
              "25%       26.510208     24.000000     29.000000    1008.719792      78.125000   \n",
              "50%       27.337500     25.000000     30.000000    1010.125000      80.875000   \n",
              "75%       28.070729     25.800000     31.000000    1011.483333      83.666667   \n",
              "max       31.339167     28.800000     39.800000    1017.037500      98.000000   \n",
              "\n",
              "       wind_speed_mean  wind_deg_mean  clouds_all_mean       rain_1d  \n",
              "count     10964.000000   10964.000000     10964.000000  10964.000000  \n",
              "mean          3.615097     157.916497        38.428085      4.545826  \n",
              "std           1.394986      63.101959        14.729778     12.830629  \n",
              "min           0.998333      48.000000         6.083333      0.000000  \n",
              "25%           2.560729     111.291667        28.333333      0.000000  \n",
              "50%           3.402708     124.833333        35.000000      0.180000  \n",
              "75%           4.399271     207.666667        44.541667      2.310000  \n",
              "max          12.765833     321.250000       100.000000    221.000000  "
            ],
            "text/html": [
              "\n",
              "  <div id=\"df-62438869-42cf-4acd-a6f1-ea6edd78f50f\">\n",
              "    <div class=\"colab-df-container\">\n",
              "      <div>\n",
              "<style scoped>\n",
              "    .dataframe tbody tr th:only-of-type {\n",
              "        vertical-align: middle;\n",
              "    }\n",
              "\n",
              "    .dataframe tbody tr th {\n",
              "        vertical-align: top;\n",
              "    }\n",
              "\n",
              "    .dataframe thead th {\n",
              "        text-align: right;\n",
              "    }\n",
              "</style>\n",
              "<table border=\"1\" class=\"dataframe\">\n",
              "  <thead>\n",
              "    <tr style=\"text-align: right;\">\n",
              "      <th></th>\n",
              "      <th>temp_mean</th>\n",
              "      <th>temp_min_min</th>\n",
              "      <th>temp_max_max</th>\n",
              "      <th>pressure_mean</th>\n",
              "      <th>humidity_mean</th>\n",
              "      <th>wind_speed_mean</th>\n",
              "      <th>wind_deg_mean</th>\n",
              "      <th>clouds_all_mean</th>\n",
              "      <th>rain_1d</th>\n",
              "    </tr>\n",
              "  </thead>\n",
              "  <tbody>\n",
              "    <tr>\n",
              "      <th>count</th>\n",
              "      <td>10964.000000</td>\n",
              "      <td>10964.000000</td>\n",
              "      <td>10964.000000</td>\n",
              "      <td>10964.000000</td>\n",
              "      <td>10964.000000</td>\n",
              "      <td>10964.000000</td>\n",
              "      <td>10964.000000</td>\n",
              "      <td>10964.000000</td>\n",
              "      <td>10964.000000</td>\n",
              "    </tr>\n",
              "    <tr>\n",
              "      <th>mean</th>\n",
              "      <td>27.273347</td>\n",
              "      <td>24.848543</td>\n",
              "      <td>30.145240</td>\n",
              "      <td>1010.043557</td>\n",
              "      <td>80.814358</td>\n",
              "      <td>3.615097</td>\n",
              "      <td>157.916497</td>\n",
              "      <td>38.428085</td>\n",
              "      <td>4.545826</td>\n",
              "    </tr>\n",
              "    <tr>\n",
              "      <th>std</th>\n",
              "      <td>1.069445</td>\n",
              "      <td>1.391260</td>\n",
              "      <td>1.551929</td>\n",
              "      <td>1.995368</td>\n",
              "      <td>4.300660</td>\n",
              "      <td>1.394986</td>\n",
              "      <td>63.101959</td>\n",
              "      <td>14.729778</td>\n",
              "      <td>12.830629</td>\n",
              "    </tr>\n",
              "    <tr>\n",
              "      <th>min</th>\n",
              "      <td>22.401250</td>\n",
              "      <td>2.000000</td>\n",
              "      <td>23.200000</td>\n",
              "      <td>1001.129167</td>\n",
              "      <td>61.958333</td>\n",
              "      <td>0.998333</td>\n",
              "      <td>48.000000</td>\n",
              "      <td>6.083333</td>\n",
              "      <td>0.000000</td>\n",
              "    </tr>\n",
              "    <tr>\n",
              "      <th>25%</th>\n",
              "      <td>26.510208</td>\n",
              "      <td>24.000000</td>\n",
              "      <td>29.000000</td>\n",
              "      <td>1008.719792</td>\n",
              "      <td>78.125000</td>\n",
              "      <td>2.560729</td>\n",
              "      <td>111.291667</td>\n",
              "      <td>28.333333</td>\n",
              "      <td>0.000000</td>\n",
              "    </tr>\n",
              "    <tr>\n",
              "      <th>50%</th>\n",
              "      <td>27.337500</td>\n",
              "      <td>25.000000</td>\n",
              "      <td>30.000000</td>\n",
              "      <td>1010.125000</td>\n",
              "      <td>80.875000</td>\n",
              "      <td>3.402708</td>\n",
              "      <td>124.833333</td>\n",
              "      <td>35.000000</td>\n",
              "      <td>0.180000</td>\n",
              "    </tr>\n",
              "    <tr>\n",
              "      <th>75%</th>\n",
              "      <td>28.070729</td>\n",
              "      <td>25.800000</td>\n",
              "      <td>31.000000</td>\n",
              "      <td>1011.483333</td>\n",
              "      <td>83.666667</td>\n",
              "      <td>4.399271</td>\n",
              "      <td>207.666667</td>\n",
              "      <td>44.541667</td>\n",
              "      <td>2.310000</td>\n",
              "    </tr>\n",
              "    <tr>\n",
              "      <th>max</th>\n",
              "      <td>31.339167</td>\n",
              "      <td>28.800000</td>\n",
              "      <td>39.800000</td>\n",
              "      <td>1017.037500</td>\n",
              "      <td>98.000000</td>\n",
              "      <td>12.765833</td>\n",
              "      <td>321.250000</td>\n",
              "      <td>100.000000</td>\n",
              "      <td>221.000000</td>\n",
              "    </tr>\n",
              "  </tbody>\n",
              "</table>\n",
              "</div>\n",
              "      <button class=\"colab-df-convert\" onclick=\"convertToInteractive('df-62438869-42cf-4acd-a6f1-ea6edd78f50f')\"\n",
              "              title=\"Convert this dataframe to an interactive table.\"\n",
              "              style=\"display:none;\">\n",
              "        \n",
              "  <svg xmlns=\"http://www.w3.org/2000/svg\" height=\"24px\"viewBox=\"0 0 24 24\"\n",
              "       width=\"24px\">\n",
              "    <path d=\"M0 0h24v24H0V0z\" fill=\"none\"/>\n",
              "    <path d=\"M18.56 5.44l.94 2.06.94-2.06 2.06-.94-2.06-.94-.94-2.06-.94 2.06-2.06.94zm-11 1L8.5 8.5l.94-2.06 2.06-.94-2.06-.94L8.5 2.5l-.94 2.06-2.06.94zm10 10l.94 2.06.94-2.06 2.06-.94-2.06-.94-.94-2.06-.94 2.06-2.06.94z\"/><path d=\"M17.41 7.96l-1.37-1.37c-.4-.4-.92-.59-1.43-.59-.52 0-1.04.2-1.43.59L10.3 9.45l-7.72 7.72c-.78.78-.78 2.05 0 2.83L4 21.41c.39.39.9.59 1.41.59.51 0 1.02-.2 1.41-.59l7.78-7.78 2.81-2.81c.8-.78.8-2.07 0-2.86zM5.41 20L4 18.59l7.72-7.72 1.47 1.35L5.41 20z\"/>\n",
              "  </svg>\n",
              "      </button>\n",
              "      \n",
              "  <style>\n",
              "    .colab-df-container {\n",
              "      display:flex;\n",
              "      flex-wrap:wrap;\n",
              "      gap: 12px;\n",
              "    }\n",
              "\n",
              "    .colab-df-convert {\n",
              "      background-color: #E8F0FE;\n",
              "      border: none;\n",
              "      border-radius: 50%;\n",
              "      cursor: pointer;\n",
              "      display: none;\n",
              "      fill: #1967D2;\n",
              "      height: 32px;\n",
              "      padding: 0 0 0 0;\n",
              "      width: 32px;\n",
              "    }\n",
              "\n",
              "    .colab-df-convert:hover {\n",
              "      background-color: #E2EBFA;\n",
              "      box-shadow: 0px 1px 2px rgba(60, 64, 67, 0.3), 0px 1px 3px 1px rgba(60, 64, 67, 0.15);\n",
              "      fill: #174EA6;\n",
              "    }\n",
              "\n",
              "    [theme=dark] .colab-df-convert {\n",
              "      background-color: #3B4455;\n",
              "      fill: #D2E3FC;\n",
              "    }\n",
              "\n",
              "    [theme=dark] .colab-df-convert:hover {\n",
              "      background-color: #434B5C;\n",
              "      box-shadow: 0px 1px 3px 1px rgba(0, 0, 0, 0.15);\n",
              "      filter: drop-shadow(0px 1px 2px rgba(0, 0, 0, 0.3));\n",
              "      fill: #FFFFFF;\n",
              "    }\n",
              "  </style>\n",
              "\n",
              "      <script>\n",
              "        const buttonEl =\n",
              "          document.querySelector('#df-62438869-42cf-4acd-a6f1-ea6edd78f50f button.colab-df-convert');\n",
              "        buttonEl.style.display =\n",
              "          google.colab.kernel.accessAllowed ? 'block' : 'none';\n",
              "\n",
              "        async function convertToInteractive(key) {\n",
              "          const element = document.querySelector('#df-62438869-42cf-4acd-a6f1-ea6edd78f50f');\n",
              "          const dataTable =\n",
              "            await google.colab.kernel.invokeFunction('convertToInteractive',\n",
              "                                                     [key], {});\n",
              "          if (!dataTable) return;\n",
              "\n",
              "          const docLinkHtml = 'Like what you see? Visit the ' +\n",
              "            '<a target=\"_blank\" href=https://colab.research.google.com/notebooks/data_table.ipynb>data table notebook</a>'\n",
              "            + ' to learn more about interactive tables.';\n",
              "          element.innerHTML = '';\n",
              "          dataTable['output_type'] = 'display_data';\n",
              "          await google.colab.output.renderOutput(dataTable, element);\n",
              "          const docLink = document.createElement('div');\n",
              "          docLink.innerHTML = docLinkHtml;\n",
              "          element.appendChild(docLink);\n",
              "        }\n",
              "      </script>\n",
              "    </div>\n",
              "  </div>\n",
              "  "
            ]
          },
          "metadata": {},
          "execution_count": 4
        }
      ]
    },
    {
      "cell_type": "code",
      "source": [
        "df.loc[(df['temp_min_min'] < 22.4), 'temp_min_min'] = 22.4"
      ],
      "metadata": {
        "id": "BAZikoj7XrBg"
      },
      "execution_count": 5,
      "outputs": []
    },
    {
      "cell_type": "code",
      "source": [
        "fig, axes = plt.subplots(3, 3, figsize=(15, 12))\n",
        "fig.suptitle('Boxplot of parameters')\n",
        "i, j = 0, 0\n",
        "for c in df:\n",
        "    if c != 'dt_iso':\n",
        "        sns.boxplot(ax=axes[i, j], x=df[c])\n",
        "\n",
        "        j = j + 1\n",
        "        if j >= 3:\n",
        "            j = 0\n",
        "            i = i + 1"
      ],
      "metadata": {
        "colab": {
          "base_uri": "https://localhost:8080/",
          "height": 802
        },
        "id": "ZFW4fZ0XX0ha",
        "outputId": "9f498ac4-e6fd-451d-8713-9132de57c285"
      },
      "execution_count": 6,
      "outputs": [
        {
          "output_type": "display_data",
          "data": {
            "text/plain": [
              "<Figure size 1080x864 with 9 Axes>"
            ],
            "image/png": "[encoded data removed]"
          },
          "metadata": {
            "needs_background": "light"
          }
        }
      ]
    },
    {
      "cell_type": "code",
      "source": [
        "df_train = df[(df['dt_iso'] <= '2018-12-31')]\n",
        "df_test = df[(df['dt_iso'] >= '2019-01-01') & (df['dt_iso'] <= '2019-12-31')]"
      ],
      "metadata": {
        "id": "y1XzvGl2X99O"
      },
      "execution_count": 7,
      "outputs": []
    },
    {
      "cell_type": "code",
      "source": [
        "df = df.set_index('dt_iso')\n",
        "df_train = df_train.set_index('dt_iso')\n",
        "df_test = df_test.set_index('dt_iso')"
      ],
      "metadata": {
        "id": "dxObXWFOYKVy"
      },
      "execution_count": 8,
      "outputs": []
    },
    {
      "cell_type": "code",
      "source": [
        "sc = MinMaxScaler(feature_range = (0, 1))\n",
        "norm_df = sc.fit_transform(df_train)\n",
        "norm_df"
      ],
      "metadata": {
        "colab": {
          "base_uri": "https://localhost:8080/"
        },
        "id": "exj7K0JZYdae",
        "outputId": "7f04990a-4d54-4493-fb14-3603bf151973"
      },
      "execution_count": 9,
      "outputs": [
        {
          "output_type": "execute_result",
          "data": {
            "text/plain": [
              "array([[0.43997949, 0.4109375 , 0.25301205, ..., 0.53537664, 0.90993789,\n",
              "        0.04253394],\n",
              "       [0.35336348, 0.39375   , 0.20180723, ..., 0.72994815, 0.99955634,\n",
              "        0.1661086 ],\n",
              "       [0.50967321, 0.5765625 , 0.26024096, ..., 0.81655993, 0.95740905,\n",
              "        0.02271493],\n",
              "       ...,\n",
              "       [0.6979628 , 0.625     , 0.48192771, ..., 0.83074108, 0.26796806,\n",
              "        0.01900452],\n",
              "       [0.68220596, 0.5625    , 0.48192771, ..., 0.81091796, 0.17258208,\n",
              "        0.        ],\n",
              "       [0.70807888, 0.5625    , 0.53012048, ..., 0.41445563, 0.42502218,\n",
              "        0.01040724]])"
            ]
          },
          "metadata": {},
          "execution_count": 9
        }
      ]
    },
    {
      "cell_type": "code",
      "source": [
        "def multivariate_data(dataset, target, start_index, end_index, history_size,\n",
        "                      target_size, step, single_step=False):\n",
        "  data = []\n",
        "  labels = []\n",
        "\n",
        "  start_index = start_index + history_size\n",
        "  if end_index is None:\n",
        "    end_index = len(dataset) - target_size\n",
        "\n",
        "  for i in range(start_index, end_index):\n",
        "    indices = range(i-history_size, i, step)\n",
        "    data.append(dataset[indices])\n",
        "\n",
        "    if single_step:\n",
        "      labels.append(target[i+target_size])\n",
        "    else:\n",
        "      labels.append(target[i:i+target_size])\n",
        "\n",
        "  return np.array(data), np.array(labels)"
      ],
      "metadata": {
        "id": "wc6azqcdYrMe"
      },
      "execution_count": 20,
      "outputs": []
    },
    {
      "cell_type": "code",
      "source": [
        "past_history = 730\n",
        "future_target = 365\n",
        "n_feature = 6\n",
        "STEP = 1 # 6\n",
        "TRAIN_SPLIT = 9496 # 2016\n",
        "x_train_multi, y_train_multi = multivariate_data(norm_df, norm_df[:, 5], 0,\n",
        "                                                 TRAIN_SPLIT, past_history,\n",
        "                                                 future_target, STEP)\n",
        "x_val_multi, y_val_multi = multivariate_data(norm_df, norm_df[:, 5],\n",
        "                                             TRAIN_SPLIT, None, past_history,\n",
        "                                             future_target, STEP)"
      ],
      "metadata": {
        "id": "Ms2poXdNYtm9"
      },
      "execution_count": 21,
      "outputs": []
    },
    {
      "cell_type": "code",
      "source": [
        "model = keras.models.Sequential([\n",
        "  keras.layers.Bidirectional(keras.layers.GRU(units=32, return_sequences = True, input_shape=(past_history, n_feature))),\n",
        "  keras.layers.Dropout(0.2),\n",
        "  keras.layers.Bidirectional(keras.layers.GRU(units=32)),\n",
        "  keras.layers.Dropout(0.2),\n",
        "  keras.layers.Dense(units = future_target)\n",
        "])"
      ],
      "metadata": {
        "id": "gcF8xU4BYPvB"
      },
      "execution_count": 22,
      "outputs": []
    },
    {
      "cell_type": "code",
      "source": [
        "model.compile(optimizer = 'adam', loss = 'mean_squared_error')"
      ],
      "metadata": {
        "id": "j_51yqzUYSwT"
      },
      "execution_count": 23,
      "outputs": []
    },
    {
      "cell_type": "code",
      "source": [
        "epoch = 10\n",
        "batch_size = 128\n",
        "model.fit(x_train_multi, y_train_multi, validation_data=(x_val_multi, y_val_multi), epochs = epoch, batch_size = batch_size)"
      ],
      "metadata": {
        "colab": {
          "base_uri": "https://localhost:8080/"
        },
        "id": "2ON4eEe1YWIL",
        "outputId": "dc51caa0-1c4b-468a-f254-72c85aa6dcb1"
      },
      "execution_count": 25,
      "outputs": [
        {
          "output_type": "stream",
          "name": "stdout",
          "text": [
            "Epoch 1/10\n",
            "69/69 [==============================] - 130s 2s/step - loss: 0.0225 - val_loss: 0.0190\n",
            "Epoch 2/10\n",
            "69/69 [==============================] - 118s 2s/step - loss: 0.0138 - val_loss: 0.0190\n",
            "Epoch 3/10\n",
            "69/69 [==============================] - 119s 2s/step - loss: 0.0132 - val_loss: 0.0190\n",
            "Epoch 4/10\n",
            "69/69 [==============================] - 117s 2s/step - loss: 0.0128 - val_loss: 0.0191\n",
            "Epoch 5/10\n",
            "69/69 [==============================] - 117s 2s/step - loss: 0.0126 - val_loss: 0.0193\n",
            "Epoch 6/10\n",
            "69/69 [==============================] - 115s 2s/step - loss: 0.0124 - val_loss: 0.0190\n",
            "Epoch 7/10\n",
            "69/69 [==============================] - 117s 2s/step - loss: 0.0123 - val_loss: 0.0196\n",
            "Epoch 8/10\n",
            "69/69 [==============================] - 117s 2s/step - loss: 0.0121 - val_loss: 0.0193\n",
            "Epoch 9/10\n",
            "69/69 [==============================] - 118s 2s/step - loss: 0.0119 - val_loss: 0.0192\n",
            "Epoch 10/10\n",
            "69/69 [==============================] - 115s 2s/step - loss: 0.0117 - val_loss: 0.0185\n"
          ]
        },
        {
          "output_type": "execute_result",
          "data": {
            "text/plain": [
              "<keras.callbacks.History at 0x7efba3d01350>"
            ]
          },
          "metadata": {},
          "execution_count": 25
        }
      ]
    },
    {
      "cell_type": "code",
      "source": [
        "model.save('/content/drive/MyDrive/Colab Notebooks/modelLSTM.h5')"
      ],
      "metadata": {
        "id": "kV1d8bxmdS01"
      },
      "execution_count": 26,
      "outputs": []
    },
    {
      "cell_type": "code",
      "source": [
        "X_predict = norm_df[-past_history:].reshape((-1, past_history, n_feature))"
      ],
      "metadata": {
        "colab": {
          "base_uri": "https://localhost:8080/",
          "height": 171
        },
        "id": "yrnagMfMdkyt",
        "outputId": "6caacb9f-96ea-429b-a8f5-26dec29d0827"
      },
      "execution_count": 30,
      "outputs": [
        {
          "output_type": "error",
          "ename": "ValueError",
          "evalue": "ignored",
          "traceback": [
            "\u001b[0;31m---------------------------------------------------------------------------\u001b[0m",
            "\u001b[0;31mValueError\u001b[0m                                Traceback (most recent call last)",
            "\u001b[0;32m<ipython-input-30-103106c2c4e4>\u001b[0m in \u001b[0;36m<module>\u001b[0;34m()\u001b[0m\n\u001b[0;32m----> 1\u001b[0;31m \u001b[0mX_predict\u001b[0m \u001b[0;34m=\u001b[0m \u001b[0mnorm_df\u001b[0m\u001b[0;34m[\u001b[0m\u001b[0;34m-\u001b[0m\u001b[0mpast_history\u001b[0m\u001b[0;34m:\u001b[0m\u001b[0;34m]\u001b[0m\u001b[0;34m.\u001b[0m\u001b[0mreshape\u001b[0m\u001b[0;34m(\u001b[0m\u001b[0;34m(\u001b[0m\u001b[0;34m-\u001b[0m\u001b[0;36m1\u001b[0m\u001b[0;34m,\u001b[0m \u001b[0mpast_history\u001b[0m\u001b[0;34m,\u001b[0m \u001b[0mn_feature\u001b[0m\u001b[0;34m)\u001b[0m\u001b[0;34m)\u001b[0m\u001b[0;34m\u001b[0m\u001b[0;34m\u001b[0m\u001b[0m\n\u001b[0m",
            "\u001b[0;31mValueError\u001b[0m: cannot reshape array of size 6570 into shape (730,6)"
          ]
        }
      ]
    }
  ]
}