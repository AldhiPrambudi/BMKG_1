{
 "cells": [
  {
   "cell_type": "code",
   "execution_count": 1,
   "metadata": {},
   "outputs": [],
   "source": [
    "import tensorflow as tf\n",
    "import pandas as pd\n",
    "import numpy as np\n",
    "from matplotlib import pyplot as plt\n",
    "import seaborn as sns"
   ]
  },
  {
   "cell_type": "code",
   "execution_count": 2,
   "metadata": {},
   "outputs": [
    {
     "data": {
      "text/html": [
       "<div>\n",
       "<style scoped>\n",
       "    .dataframe tbody tr th:only-of-type {\n",
       "        vertical-align: middle;\n",
       "    }\n",
       "\n",
       "    .dataframe tbody tr th {\n",
       "        vertical-align: top;\n",
       "    }\n",
       "\n",
       "    .dataframe thead th {\n",
       "        text-align: right;\n",
       "    }\n",
       "</style>\n",
       "<table border=\"1\" class=\"dataframe\">\n",
       "  <thead>\n",
       "    <tr style=\"text-align: right;\">\n",
       "      <th></th>\n",
       "      <th>dt_iso</th>\n",
       "      <th>temp_mean</th>\n",
       "      <th>temp_min_min</th>\n",
       "      <th>temp_max_max</th>\n",
       "      <th>pressure_mean</th>\n",
       "      <th>humidity_mean</th>\n",
       "      <th>wind_speed_mean</th>\n",
       "      <th>wind_deg_mean</th>\n",
       "      <th>clouds_all_mean</th>\n",
       "      <th>rain_1d</th>\n",
       "    </tr>\n",
       "  </thead>\n",
       "  <tbody>\n",
       "    <tr>\n",
       "      <th>0</th>\n",
       "      <td>1990-01-01</td>\n",
       "      <td>26.333750</td>\n",
       "      <td>25.03</td>\n",
       "      <td>27.40</td>\n",
       "      <td>1009.333333</td>\n",
       "      <td>85.416667</td>\n",
       "      <td>1.477083</td>\n",
       "      <td>194.291667</td>\n",
       "      <td>91.541667</td>\n",
       "      <td>9.40</td>\n",
       "    </tr>\n",
       "    <tr>\n",
       "      <th>1</th>\n",
       "      <td>1990-01-02</td>\n",
       "      <td>25.559583</td>\n",
       "      <td>24.92</td>\n",
       "      <td>26.55</td>\n",
       "      <td>1009.666667</td>\n",
       "      <td>87.541667</td>\n",
       "      <td>2.096667</td>\n",
       "      <td>247.458333</td>\n",
       "      <td>99.958333</td>\n",
       "      <td>36.71</td>\n",
       "    </tr>\n",
       "    <tr>\n",
       "      <th>2</th>\n",
       "      <td>1990-01-03</td>\n",
       "      <td>26.956667</td>\n",
       "      <td>26.09</td>\n",
       "      <td>27.52</td>\n",
       "      <td>1008.583333</td>\n",
       "      <td>82.250000</td>\n",
       "      <td>2.122083</td>\n",
       "      <td>271.125000</td>\n",
       "      <td>96.000000</td>\n",
       "      <td>5.02</td>\n",
       "    </tr>\n",
       "    <tr>\n",
       "      <th>3</th>\n",
       "      <td>1990-01-04</td>\n",
       "      <td>26.638750</td>\n",
       "      <td>25.91</td>\n",
       "      <td>27.15</td>\n",
       "      <td>1007.958333</td>\n",
       "      <td>84.541667</td>\n",
       "      <td>2.652500</td>\n",
       "      <td>202.458333</td>\n",
       "      <td>98.541667</td>\n",
       "      <td>10.54</td>\n",
       "    </tr>\n",
       "    <tr>\n",
       "      <th>4</th>\n",
       "      <td>1990-01-05</td>\n",
       "      <td>27.940417</td>\n",
       "      <td>27.40</td>\n",
       "      <td>28.83</td>\n",
       "      <td>1007.916667</td>\n",
       "      <td>78.708333</td>\n",
       "      <td>2.905000</td>\n",
       "      <td>131.458333</td>\n",
       "      <td>99.708333</td>\n",
       "      <td>0.71</td>\n",
       "    </tr>\n",
       "  </tbody>\n",
       "</table>\n",
       "</div>"
      ],
      "text/plain": [
       "      dt_iso  temp_mean  temp_min_min  temp_max_max  pressure_mean  \\\n",
       "0 1990-01-01  26.333750         25.03         27.40    1009.333333   \n",
       "1 1990-01-02  25.559583         24.92         26.55    1009.666667   \n",
       "2 1990-01-03  26.956667         26.09         27.52    1008.583333   \n",
       "3 1990-01-04  26.638750         25.91         27.15    1007.958333   \n",
       "4 1990-01-05  27.940417         27.40         28.83    1007.916667   \n",
       "\n",
       "   humidity_mean  wind_speed_mean  wind_deg_mean  clouds_all_mean  rain_1d  \n",
       "0      85.416667         1.477083     194.291667        91.541667     9.40  \n",
       "1      87.541667         2.096667     247.458333        99.958333    36.71  \n",
       "2      82.250000         2.122083     271.125000        96.000000     5.02  \n",
       "3      84.541667         2.652500     202.458333        98.541667    10.54  \n",
       "4      78.708333         2.905000     131.458333        99.708333     0.71  "
      ]
     },
     "execution_count": 2,
     "metadata": {},
     "output_type": "execute_result"
    }
   ],
   "source": [
    "df_owd = pd.read_csv(\"./dataset/1990-2020_day.csv\", parse_dates=True)\n",
    "df_owd['dt_iso'] = pd.to_datetime(df_owd['dt_iso'])\n",
    "df_owd.head()"
   ]
  },
  {
   "cell_type": "markdown",
   "metadata": {},
   "source": [
    "## EDA"
   ]
  },
  {
   "cell_type": "markdown",
   "metadata": {},
   "source": [
    "Pola curah hujan dalam satu tahun"
   ]
  },
  {
   "cell_type": "code",
   "execution_count": 3,
   "metadata": {},
   "outputs": [
    {
     "data": {
      "image/png": "[encoded data removed]",
      "text/plain": [
       "<Figure size 432x288 with 1 Axes>"
      ]
     },
     "metadata": {
      "needs_background": "light"
     },
     "output_type": "display_data"
    }
   ],
   "source": [
    "df_1990 = df_owd[(df_owd['dt_iso'] >= '1990-01-01') & (df_owd['dt_iso'] <= '1990-12-31')]\n",
    "plt.plot(df_1990.groupby([pd.Grouper(key='dt_iso', freq='M')]).rain_1d.sum(), marker='o')\n",
    "plt.ylabel(\"rain 1d\")\n",
    "plt.show()"
   ]
  },
  {
   "cell_type": "markdown",
   "metadata": {},
   "source": [
    "Dari plot terlihat data mengikuti pola yang valid\n",
    "\n",
    "- Denpasar mengikuti pola Monsoon, \n",
    "- Puncak musim hujan berada di **Dec-Jan-Feb (DJF)**\n",
    "- Puncak musim kemarau berada di **Jun-Jul-Aug (JJA)**\n",
    "\n",
    "<img src='images/pola.jpeg'></img>"
   ]
  },
  {
   "cell_type": "code",
   "execution_count": 4,
   "metadata": {},
   "outputs": [
    {
     "data": {
      "image/png": "[encoded data removed]",
      "text/plain": [
       "<Figure size 432x288 with 1 Axes>"
      ]
     },
     "metadata": {
      "needs_background": "light"
     },
     "output_type": "display_data"
    }
   ],
   "source": [
    "df_owd.groupby([pd.Grouper(key='dt_iso', freq='M')]).rain_1d.sum().plot()\n",
    "plt.title('Curah hujan - seasonality')\n",
    "plt.show()"
   ]
  },
  {
   "cell_type": "code",
   "execution_count": null,
   "metadata": {},
   "outputs": [],
   "source": [
    "plt.figure(figsize=(14,8))\n",
    "sns.set_theme(style=\"white\")\n",
    "corr = df_owd.corr()\n",
    "heatmap = sns.heatmap(corr, annot=True, cmap=\"Blues\", fmt='.1g')"
   ]
  },
  {
   "cell_type": "markdown",
   "metadata": {},
   "source": [
    "Hasil korelasi parameter tidak ada korelasi yang kuat antara curah hujan dan parameter lainnya\n",
    "\n",
    "Namun pada riset ini diangkut semua paramater karena parameter tersebut yang biasa dipakai dalam prediksi curah hujan"
   ]
  },
  {
   "cell_type": "markdown",
   "metadata": {},
   "source": [
    "### Dataset Statistik"
   ]
  },
  {
   "cell_type": "code",
   "execution_count": 13,
   "metadata": {},
   "outputs": [
    {
     "data": {
      "text/html": [
       "<div>\n",
       "<style scoped>\n",
       "    .dataframe tbody tr th:only-of-type {\n",
       "        vertical-align: middle;\n",
       "    }\n",
       "\n",
       "    .dataframe tbody tr th {\n",
       "        vertical-align: top;\n",
       "    }\n",
       "\n",
       "    .dataframe thead th {\n",
       "        text-align: right;\n",
       "    }\n",
       "</style>\n",
       "<table border=\"1\" class=\"dataframe\">\n",
       "  <thead>\n",
       "    <tr style=\"text-align: right;\">\n",
       "      <th></th>\n",
       "      <th>temp_mean</th>\n",
       "      <th>temp_min_min</th>\n",
       "      <th>temp_max_max</th>\n",
       "      <th>pressure_mean</th>\n",
       "      <th>humidity_mean</th>\n",
       "      <th>wind_speed_mean</th>\n",
       "      <th>wind_deg_mean</th>\n",
       "      <th>clouds_all_mean</th>\n",
       "      <th>rain_1d</th>\n",
       "    </tr>\n",
       "  </thead>\n",
       "  <tbody>\n",
       "    <tr>\n",
       "      <th>count</th>\n",
       "      <td>10964.000000</td>\n",
       "      <td>10964.000000</td>\n",
       "      <td>10964.000000</td>\n",
       "      <td>10964.000000</td>\n",
       "      <td>10964.000000</td>\n",
       "      <td>10964.000000</td>\n",
       "      <td>10964.000000</td>\n",
       "      <td>10964.000000</td>\n",
       "      <td>10964.000000</td>\n",
       "    </tr>\n",
       "    <tr>\n",
       "      <th>mean</th>\n",
       "      <td>27.273347</td>\n",
       "      <td>24.848543</td>\n",
       "      <td>30.145240</td>\n",
       "      <td>1010.043557</td>\n",
       "      <td>80.814358</td>\n",
       "      <td>3.615097</td>\n",
       "      <td>157.916497</td>\n",
       "      <td>38.428085</td>\n",
       "      <td>4.545826</td>\n",
       "    </tr>\n",
       "    <tr>\n",
       "      <th>std</th>\n",
       "      <td>1.069445</td>\n",
       "      <td>1.391260</td>\n",
       "      <td>1.551929</td>\n",
       "      <td>1.995368</td>\n",
       "      <td>4.300660</td>\n",
       "      <td>1.394986</td>\n",
       "      <td>63.101959</td>\n",
       "      <td>14.729778</td>\n",
       "      <td>12.830629</td>\n",
       "    </tr>\n",
       "    <tr>\n",
       "      <th>min</th>\n",
       "      <td>22.401250</td>\n",
       "      <td>2.000000</td>\n",
       "      <td>23.200000</td>\n",
       "      <td>1001.129167</td>\n",
       "      <td>61.958333</td>\n",
       "      <td>0.998333</td>\n",
       "      <td>48.000000</td>\n",
       "      <td>6.083333</td>\n",
       "      <td>0.000000</td>\n",
       "    </tr>\n",
       "    <tr>\n",
       "      <th>25%</th>\n",
       "      <td>26.510208</td>\n",
       "      <td>24.000000</td>\n",
       "      <td>29.000000</td>\n",
       "      <td>1008.719792</td>\n",
       "      <td>78.125000</td>\n",
       "      <td>2.560729</td>\n",
       "      <td>111.291667</td>\n",
       "      <td>28.333333</td>\n",
       "      <td>0.000000</td>\n",
       "    </tr>\n",
       "    <tr>\n",
       "      <th>50%</th>\n",
       "      <td>27.337500</td>\n",
       "      <td>25.000000</td>\n",
       "      <td>30.000000</td>\n",
       "      <td>1010.125000</td>\n",
       "      <td>80.875000</td>\n",
       "      <td>3.402708</td>\n",
       "      <td>124.833333</td>\n",
       "      <td>35.000000</td>\n",
       "      <td>0.180000</td>\n",
       "    </tr>\n",
       "    <tr>\n",
       "      <th>75%</th>\n",
       "      <td>28.070729</td>\n",
       "      <td>25.800000</td>\n",
       "      <td>31.000000</td>\n",
       "      <td>1011.483333</td>\n",
       "      <td>83.666667</td>\n",
       "      <td>4.399271</td>\n",
       "      <td>207.666667</td>\n",
       "      <td>44.541667</td>\n",
       "      <td>2.310000</td>\n",
       "    </tr>\n",
       "    <tr>\n",
       "      <th>max</th>\n",
       "      <td>31.339167</td>\n",
       "      <td>28.800000</td>\n",
       "      <td>39.800000</td>\n",
       "      <td>1017.037500</td>\n",
       "      <td>98.000000</td>\n",
       "      <td>12.765833</td>\n",
       "      <td>321.250000</td>\n",
       "      <td>100.000000</td>\n",
       "      <td>221.000000</td>\n",
       "    </tr>\n",
       "  </tbody>\n",
       "</table>\n",
       "</div>"
      ],
      "text/plain": [
       "          temp_mean  temp_min_min  temp_max_max  pressure_mean  humidity_mean  \\\n",
       "count  10964.000000  10964.000000  10964.000000   10964.000000   10964.000000   \n",
       "mean      27.273347     24.848543     30.145240    1010.043557      80.814358   \n",
       "std        1.069445      1.391260      1.551929       1.995368       4.300660   \n",
       "min       22.401250      2.000000     23.200000    1001.129167      61.958333   \n",
       "25%       26.510208     24.000000     29.000000    1008.719792      78.125000   \n",
       "50%       27.337500     25.000000     30.000000    1010.125000      80.875000   \n",
       "75%       28.070729     25.800000     31.000000    1011.483333      83.666667   \n",
       "max       31.339167     28.800000     39.800000    1017.037500      98.000000   \n",
       "\n",
       "       wind_speed_mean  wind_deg_mean  clouds_all_mean       rain_1d  \n",
       "count     10964.000000   10964.000000     10964.000000  10964.000000  \n",
       "mean          3.615097     157.916497        38.428085      4.545826  \n",
       "std           1.394986      63.101959        14.729778     12.830629  \n",
       "min           0.998333      48.000000         6.083333      0.000000  \n",
       "25%           2.560729     111.291667        28.333333      0.000000  \n",
       "50%           3.402708     124.833333        35.000000      0.180000  \n",
       "75%           4.399271     207.666667        44.541667      2.310000  \n",
       "max          12.765833     321.250000       100.000000    221.000000  "
      ]
     },
     "execution_count": 13,
     "metadata": {},
     "output_type": "execute_result"
    }
   ],
   "source": [
    "df_owd.describe()"
   ]
  },
  {
   "cell_type": "markdown",
   "metadata": {},
   "source": [
    "Terlihat terjadi data error pada temperatur minimum, tidak mungkin di daerah Denpasar mengalami suhu 2 derajat\n",
    "\n",
    "Oleh karena itu, dilakukan cleansing dengan mengganti nilai temp_min_min < 22.4 dengan nilai 22.4 yaitu diambil dari temperture_mean minimum"
   ]
  },
  {
   "cell_type": "markdown",
   "metadata": {},
   "source": [
    "### Cleansing"
   ]
  },
  {
   "cell_type": "code",
   "execution_count": 14,
   "metadata": {},
   "outputs": [],
   "source": [
    "df_owd.loc[(df_owd['temp_min_min'] < 22.4), 'temp_min_min'] = 22.4"
   ]
  },
  {
   "cell_type": "code",
   "execution_count": 15,
   "metadata": {},
   "outputs": [
    {
     "data": {
      "image/png": "[encoded data removed]",
      "text/plain": [
       "<Figure size 1080x864 with 9 Axes>"
      ]
     },
     "metadata": {},
     "output_type": "display_data"
    }
   ],
   "source": [
    "fig, axes = plt.subplots(3, 3, figsize=(15, 12))\n",
    "fig.suptitle('Boxplot of parameters')\n",
    "i, j = 0, 0\n",
    "for c in df_owd:\n",
    "    if c != 'dt_iso':\n",
    "        sns.boxplot(ax=axes[i, j], x=df_owd[c])\n",
    "\n",
    "        j = j + 1\n",
    "        if j >= 3:\n",
    "            j = 0\n",
    "            i = i + 1"
   ]
  },
  {
   "cell_type": "markdown",
   "metadata": {},
   "source": [
    "Dari boxplot dapat dilihat bahwa yang mendekati distribusi normal hanyalah **temp_mean, pressure_mean, humidity_mean dan wind_deg_mean**\n",
    "\n",
    "Sehingga untuk keseragaman maka normalisasi tidak menggunakan z-score melainkan min-max,  "
   ]
  },
  {
   "cell_type": "markdown",
   "metadata": {},
   "source": [
    "## Preprocess"
   ]
  },
  {
   "cell_type": "code",
   "execution_count": 36,
   "metadata": {},
   "outputs": [
    {
     "data": {
      "text/html": [
       "<div>\n",
       "<style scoped>\n",
       "    .dataframe tbody tr th:only-of-type {\n",
       "        vertical-align: middle;\n",
       "    }\n",
       "\n",
       "    .dataframe tbody tr th {\n",
       "        vertical-align: top;\n",
       "    }\n",
       "\n",
       "    .dataframe thead th {\n",
       "        text-align: right;\n",
       "    }\n",
       "</style>\n",
       "<table border=\"1\" class=\"dataframe\">\n",
       "  <thead>\n",
       "    <tr style=\"text-align: right;\">\n",
       "      <th></th>\n",
       "      <th>temp_mean</th>\n",
       "      <th>temp_min_min</th>\n",
       "      <th>temp_max_max</th>\n",
       "      <th>pressure_mean</th>\n",
       "      <th>humidity_mean</th>\n",
       "      <th>wind_speed_mean</th>\n",
       "      <th>wind_deg_mean</th>\n",
       "      <th>clouds_all_mean</th>\n",
       "      <th>rain_1d</th>\n",
       "    </tr>\n",
       "    <tr>\n",
       "      <th>dt_iso</th>\n",
       "      <th></th>\n",
       "      <th></th>\n",
       "      <th></th>\n",
       "      <th></th>\n",
       "      <th></th>\n",
       "      <th></th>\n",
       "      <th></th>\n",
       "      <th></th>\n",
       "      <th></th>\n",
       "    </tr>\n",
       "  </thead>\n",
       "  <tbody>\n",
       "    <tr>\n",
       "      <th>1990-01-01</th>\n",
       "      <td>0.439979</td>\n",
       "      <td>0.410938</td>\n",
       "      <td>0.253012</td>\n",
       "      <td>0.515715</td>\n",
       "      <td>0.650867</td>\n",
       "      <td>0.040684</td>\n",
       "      <td>0.535377</td>\n",
       "      <td>0.909938</td>\n",
       "      <td>0.042534</td>\n",
       "    </tr>\n",
       "    <tr>\n",
       "      <th>1990-01-02</th>\n",
       "      <td>0.353363</td>\n",
       "      <td>0.393750</td>\n",
       "      <td>0.201807</td>\n",
       "      <td>0.536668</td>\n",
       "      <td>0.709827</td>\n",
       "      <td>0.093336</td>\n",
       "      <td>0.729948</td>\n",
       "      <td>0.999556</td>\n",
       "      <td>0.166109</td>\n",
       "    </tr>\n",
       "    <tr>\n",
       "      <th>1990-01-03</th>\n",
       "      <td>0.509673</td>\n",
       "      <td>0.576562</td>\n",
       "      <td>0.260241</td>\n",
       "      <td>0.468570</td>\n",
       "      <td>0.563006</td>\n",
       "      <td>0.095496</td>\n",
       "      <td>0.816560</td>\n",
       "      <td>0.957409</td>\n",
       "      <td>0.022715</td>\n",
       "    </tr>\n",
       "    <tr>\n",
       "      <th>1990-01-04</th>\n",
       "      <td>0.474104</td>\n",
       "      <td>0.548438</td>\n",
       "      <td>0.237952</td>\n",
       "      <td>0.429282</td>\n",
       "      <td>0.626590</td>\n",
       "      <td>0.140571</td>\n",
       "      <td>0.565264</td>\n",
       "      <td>0.984472</td>\n",
       "      <td>0.047692</td>\n",
       "    </tr>\n",
       "    <tr>\n",
       "      <th>1990-01-05</th>\n",
       "      <td>0.619738</td>\n",
       "      <td>0.781250</td>\n",
       "      <td>0.339157</td>\n",
       "      <td>0.426663</td>\n",
       "      <td>0.464740</td>\n",
       "      <td>0.162028</td>\n",
       "      <td>0.305428</td>\n",
       "      <td>0.996894</td>\n",
       "      <td>0.003213</td>\n",
       "    </tr>\n",
       "  </tbody>\n",
       "</table>\n",
       "</div>"
      ],
      "text/plain": [
       "            temp_mean  temp_min_min  temp_max_max  pressure_mean  \\\n",
       "dt_iso                                                             \n",
       "1990-01-01   0.439979      0.410938      0.253012       0.515715   \n",
       "1990-01-02   0.353363      0.393750      0.201807       0.536668   \n",
       "1990-01-03   0.509673      0.576562      0.260241       0.468570   \n",
       "1990-01-04   0.474104      0.548438      0.237952       0.429282   \n",
       "1990-01-05   0.619738      0.781250      0.339157       0.426663   \n",
       "\n",
       "            humidity_mean  wind_speed_mean  wind_deg_mean  clouds_all_mean  \\\n",
       "dt_iso                                                                       \n",
       "1990-01-01       0.650867         0.040684       0.535377         0.909938   \n",
       "1990-01-02       0.709827         0.093336       0.729948         0.999556   \n",
       "1990-01-03       0.563006         0.095496       0.816560         0.957409   \n",
       "1990-01-04       0.626590         0.140571       0.565264         0.984472   \n",
       "1990-01-05       0.464740         0.162028       0.305428         0.996894   \n",
       "\n",
       "             rain_1d  \n",
       "dt_iso                \n",
       "1990-01-01  0.042534  \n",
       "1990-01-02  0.166109  \n",
       "1990-01-03  0.022715  \n",
       "1990-01-04  0.047692  \n",
       "1990-01-05  0.003213  "
      ]
     },
     "execution_count": 36,
     "metadata": {},
     "output_type": "execute_result"
    }
   ],
   "source": [
    "df_owd = df_owd.set_index('dt_iso')\n",
    "norm_df_owd = (df_owd - df_owd.min(axis=0)) / (df_owd.max(axis=0) - df_owd.min(axis=0))\n",
    "norm_df_owd.head()"
   ]
  },
  {
   "cell_type": "code",
   "execution_count": null,
   "metadata": {},
   "outputs": [],
   "source": [
    "#Empty lists to be populated using formatted training data\n",
    "trainX = []\n",
    "trainY = []\n",
    "\n",
    "n_future = 1   # Number of days we want to look into the future based on the past days.\n",
    "n_past = 14  # Number of past days we want to use to predict the future.\n",
    "\n",
    "#Reformat input data into a shape: (n_samples x timesteps x n_features)\n",
    "#In my example, my df_for_training_scaled has a shape (12823, 5)\n",
    "#12823 refers to the number of data points and 5 refers to the columns (multi-variables).\n",
    "for i in range(n_past, len(norm_df_owd) - n_future +1):\n",
    "    trainX.append(norm_df_owd[i - n_past:i, 0:norm_df_owd.shape[1]])\n",
    "    trainY.append(norm_df_owd[i + n_future - 1:i + n_future, 0])\n",
    "\n",
    "trainX, trainY = np.array(trainX), np.array(trainY)\n",
    "\n",
    "print('trainX shape == {}.'.format(trainX.shape))\n",
    "print('trainY shape == {}.'.format(trainY.shape))"
   ]
  }
 ],
 "metadata": {
  "kernelspec": {
   "display_name": "Python 3.7.13 ('tf')",
   "language": "python",
   "name": "python3"
  },
  "language_info": {
   "codemirror_mode": {
    "name": "ipython",
    "version": 3
   },
   "file_extension": ".py",
   "mimetype": "text/x-python",
   "name": "python",
   "nbconvert_exporter": "python",
   "pygments_lexer": "ipython3",
   "version": "3.7.13"
  },
  "orig_nbformat": 4,
  "vscode": {
   "interpreter": {
    "hash": "fc9f590c8f4877d1e166833b0b2bf0fc041705a2b75f956309e2a179db34f39c"
   }
  }
 },
 "nbformat": 4,
 "nbformat_minor": 2
}
